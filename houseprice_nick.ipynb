{
 "cells": [
  {
   "cell_type": "code",
   "execution_count": 95,
   "metadata": {
    "collapsed": false
   },
   "outputs": [],
   "source": [
    "# Import\n",
    "import pandas as pd\n",
    "from scipy.stats import zscore\n",
    "%matplotlib inline"
   ]
  },
  {
   "cell_type": "code",
   "execution_count": 59,
   "metadata": {
    "collapsed": true
   },
   "outputs": [],
   "source": [
    "crime = pd.read_csv('data/train.csv')\n",
    "hprice = pd.read_csv('data/fredgraph.csv')"
   ]
  },
  {
   "cell_type": "code",
   "execution_count": 60,
   "metadata": {
    "collapsed": false
   },
   "outputs": [],
   "source": [
    "# remove day from hprice\n",
    "hprice['Dates'] = pd.to_datetime(hprice.observation_date)\n",
    "hprice['month'] = hprice.Dates.map(lambda x: x.strftime('%Y-%m'))"
   ]
  },
  {
   "cell_type": "code",
   "execution_count": 61,
   "metadata": {
    "collapsed": false
   },
   "outputs": [
    {
     "data": {
      "text/plain": [
       "observation_date            object\n",
       "SFXRSA                     float64\n",
       "Dates               datetime64[ns]\n",
       "month                       object\n",
       "dtype: object"
      ]
     },
     "execution_count": 61,
     "metadata": {},
     "output_type": "execute_result"
    }
   ],
   "source": [
    "hprice.dtypes"
   ]
  },
  {
   "cell_type": "code",
   "execution_count": 62,
   "metadata": {
    "collapsed": false
   },
   "outputs": [],
   "source": [
    "# Convert to date\n",
    "crime.Dates = pd.to_datetime(crime.Dates)\n",
    "crime['month'] = crime.Dates.map(lambda x: x.strftime('%Y-%m'))"
   ]
  },
  {
   "cell_type": "code",
   "execution_count": 73,
   "metadata": {
    "collapsed": false
   },
   "outputs": [
    {
     "data": {
      "text/plain": [
       "month         object\n",
       "Dates          int64\n",
       "Category       int64\n",
       "Descript       int64\n",
       "DayOfWeek      int64\n",
       "PdDistrict     int64\n",
       "Resolution     int64\n",
       "Address        int64\n",
       "X              int64\n",
       "Y              int64\n",
       "dtype: object"
      ]
     },
     "execution_count": 73,
     "metadata": {},
     "output_type": "execute_result"
    }
   ],
   "source": [
    "# Get a count by month\n",
    "crimecount = crime.groupby('month', as_index=False).count()\n",
    "crimecount.dtypes"
   ]
  },
  {
   "cell_type": "code",
   "execution_count": 84,
   "metadata": {
    "collapsed": false
   },
   "outputs": [
    {
     "data": {
      "text/plain": [
       "True"
      ]
     },
     "execution_count": 84,
     "metadata": {},
     "output_type": "execute_result"
    }
   ],
   "source": [
    "hprice.month[192] == crimecount.month[0]"
   ]
  },
  {
   "cell_type": "code",
   "execution_count": null,
   "metadata": {
    "collapsed": true
   },
   "outputs": [],
   "source": []
  },
  {
   "cell_type": "code",
   "execution_count": 99,
   "metadata": {
    "collapsed": false
   },
   "outputs": [
    {
     "data": {
      "text/html": [
       "<div>\n",
       "<table border=\"1\" class=\"dataframe\">\n",
       "  <thead>\n",
       "    <tr style=\"text-align: right;\">\n",
       "      <th></th>\n",
       "      <th>month</th>\n",
       "      <th>Dates_x</th>\n",
       "      <th>Category</th>\n",
       "      <th>Descript</th>\n",
       "      <th>DayOfWeek</th>\n",
       "      <th>PdDistrict</th>\n",
       "      <th>Resolution</th>\n",
       "      <th>Address</th>\n",
       "      <th>X</th>\n",
       "      <th>Y</th>\n",
       "      <th>observation_date</th>\n",
       "      <th>SFXRSA</th>\n",
       "      <th>Dates_y</th>\n",
       "      <th>crime</th>\n",
       "      <th>hprice</th>\n",
       "    </tr>\n",
       "  </thead>\n",
       "  <tbody>\n",
       "    <tr>\n",
       "      <th>143</th>\n",
       "      <td>2014-12</td>\n",
       "      <td>5391</td>\n",
       "      <td>5391</td>\n",
       "      <td>5391</td>\n",
       "      <td>5391</td>\n",
       "      <td>5391</td>\n",
       "      <td>5391</td>\n",
       "      <td>5391</td>\n",
       "      <td>5391</td>\n",
       "      <td>5391</td>\n",
       "      <td>2014-12-01</td>\n",
       "      <td>199.83</td>\n",
       "      <td>2014-12-01</td>\n",
       "      <td>-0.718096</td>\n",
       "      <td>0.997128</td>\n",
       "    </tr>\n",
       "    <tr>\n",
       "      <th>144</th>\n",
       "      <td>2015-01</td>\n",
       "      <td>5866</td>\n",
       "      <td>5866</td>\n",
       "      <td>5866</td>\n",
       "      <td>5866</td>\n",
       "      <td>5866</td>\n",
       "      <td>5866</td>\n",
       "      <td>5866</td>\n",
       "      <td>5866</td>\n",
       "      <td>5866</td>\n",
       "      <td>2015-01-01</td>\n",
       "      <td>201.18</td>\n",
       "      <td>2015-01-01</td>\n",
       "      <td>-0.038550</td>\n",
       "      <td>1.039652</td>\n",
       "    </tr>\n",
       "    <tr>\n",
       "      <th>145</th>\n",
       "      <td>2015-02</td>\n",
       "      <td>6008</td>\n",
       "      <td>6008</td>\n",
       "      <td>6008</td>\n",
       "      <td>6008</td>\n",
       "      <td>6008</td>\n",
       "      <td>6008</td>\n",
       "      <td>6008</td>\n",
       "      <td>6008</td>\n",
       "      <td>6008</td>\n",
       "      <td>2015-02-01</td>\n",
       "      <td>207.64</td>\n",
       "      <td>2015-02-01</td>\n",
       "      <td>0.164599</td>\n",
       "      <td>1.243133</td>\n",
       "    </tr>\n",
       "    <tr>\n",
       "      <th>146</th>\n",
       "      <td>2015-03</td>\n",
       "      <td>6851</td>\n",
       "      <td>6851</td>\n",
       "      <td>6851</td>\n",
       "      <td>6851</td>\n",
       "      <td>6851</td>\n",
       "      <td>6851</td>\n",
       "      <td>6851</td>\n",
       "      <td>6851</td>\n",
       "      <td>6851</td>\n",
       "      <td>2015-03-01</td>\n",
       "      <td>211.53</td>\n",
       "      <td>2015-03-01</td>\n",
       "      <td>1.370614</td>\n",
       "      <td>1.365662</td>\n",
       "    </tr>\n",
       "    <tr>\n",
       "      <th>147</th>\n",
       "      <td>2015-04</td>\n",
       "      <td>6609</td>\n",
       "      <td>6609</td>\n",
       "      <td>6609</td>\n",
       "      <td>6609</td>\n",
       "      <td>6609</td>\n",
       "      <td>6609</td>\n",
       "      <td>6609</td>\n",
       "      <td>6609</td>\n",
       "      <td>6609</td>\n",
       "      <td>2015-04-01</td>\n",
       "      <td>211.05</td>\n",
       "      <td>2015-04-01</td>\n",
       "      <td>1.024403</td>\n",
       "      <td>1.350543</td>\n",
       "    </tr>\n",
       "  </tbody>\n",
       "</table>\n",
       "</div>"
      ],
      "text/plain": [
       "       month  Dates_x  Category  Descript  DayOfWeek  PdDistrict  Resolution  \\\n",
       "143  2014-12     5391      5391      5391       5391        5391        5391   \n",
       "144  2015-01     5866      5866      5866       5866        5866        5866   \n",
       "145  2015-02     6008      6008      6008       6008        6008        6008   \n",
       "146  2015-03     6851      6851      6851       6851        6851        6851   \n",
       "147  2015-04     6609      6609      6609       6609        6609        6609   \n",
       "\n",
       "     Address     X     Y observation_date  SFXRSA    Dates_y     crime  \\\n",
       "143     5391  5391  5391       2014-12-01  199.83 2014-12-01 -0.718096   \n",
       "144     5866  5866  5866       2015-01-01  201.18 2015-01-01 -0.038550   \n",
       "145     6008  6008  6008       2015-02-01  207.64 2015-02-01  0.164599   \n",
       "146     6851  6851  6851       2015-03-01  211.53 2015-03-01  1.370614   \n",
       "147     6609  6609  6609       2015-04-01  211.05 2015-04-01  1.024403   \n",
       "\n",
       "       hprice  \n",
       "143  0.997128  \n",
       "144  1.039652  \n",
       "145  1.243133  \n",
       "146  1.365662  \n",
       "147  1.350543  "
      ]
     },
     "execution_count": 99,
     "metadata": {},
     "output_type": "execute_result"
    }
   ],
   "source": [
    "# Join housing prices with crime\n",
    "jdat = pd.merge(crimecount, hprice, on=\"month\", how=\"inner\")\n",
    "jdat['crime'] = zscore(jdat.DayOfWeek)\n",
    "jdat['hprice'] = zscore(jdat.SFXRSA)\n",
    "jdat.drop(jdat.tail(1).index, inplace=True)\n",
    "jdat.tail()"
   ]
  },
  {
   "cell_type": "code",
   "execution_count": 100,
   "metadata": {
    "collapsed": false
   },
   "outputs": [
    {
     "data": {
      "text/plain": [
       "<matplotlib.axes._subplots.AxesSubplot at 0x11493ab50>"
      ]
     },
     "execution_count": 100,
     "metadata": {},
     "output_type": "execute_result"
    },
    {
     "data": {
      "image/png": "[encoded data removed]",
      "text/plain": [
       "<matplotlib.figure.Figure at 0x117e8dd10>"
      ]
     },
     "metadata": {},
     "output_type": "display_data"
    }
   ],
   "source": [
    "# Plot Count by price\n",
    "jdat.plot(x=\"month\", y=[\"crime\", \"hprice\"])"
   ]
  },
  {
   "cell_type": "markdown",
   "metadata": {},
   "source": [
    "Crime probs is not related to housing prices. need to breakdown by neighborhood or something else."
   ]
  },
  {
   "cell_type": "code",
   "execution_count": null,
   "metadata": {
    "collapsed": true
   },
   "outputs": [],
   "source": []
  }
 ],
 "metadata": {
  "kernelspec": {
   "display_name": "Python 2",
   "language": "python",
   "name": "python2"
  },
  "language_info": {
   "codemirror_mode": {
    "name": "ipython",
    "version": 2
   },
   "file_extension": ".py",
   "mimetype": "text/x-python",
   "name": "python",
   "nbconvert_exporter": "python",
   "pygments_lexer": "ipython2",
   "version": "2.7.9"
  }
 },
 "nbformat": 4,
 "nbformat_minor": 0
}
